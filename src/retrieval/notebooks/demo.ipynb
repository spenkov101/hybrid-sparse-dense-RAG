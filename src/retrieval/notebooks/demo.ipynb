from src.retrieval.hybrid_retriever import HybridRetriever

retriever = HybridRetriever()
results = retriever.hybrid_search(
    "What causes climate change?",
    passages=["...passage1...", "...passage2..."]
)
