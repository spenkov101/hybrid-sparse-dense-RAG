{
 "cells": [
  {
   "cell_type": "code",
   "execution_count": null,
   "id": "2a738d3c",
   "metadata": {
    "vscode": {
     "languageId": "plaintext"
    }
   },
   "outputs": [],
   "source": [
    "from src.retrieval.hybrid_retriever import HybridRetriever\n",
    "\n",
    "retriever = HybridRetriever()\n",
    "results = retriever.hybrid_search(\n",
    "    \"What causes climate change?\",\n",
    "    passages=[\"...passage1...\", \"...passage2...\"]\n",
    ")"
   ]
  }
 ],
 "metadata": {
  "language_info": {
   "name": "python"
  }
 },
 "nbformat": 4,
 "nbformat_minor": 5
}
