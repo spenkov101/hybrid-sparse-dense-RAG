{
 "cells": [
  {
   "cell_type": "code",
   "execution_count": null,
   "id": "2a738d3c",
   "metadata": {},
   "outputs": [],
   "source": []
  },
  {
   "cell_type": "code",
   "execution_count": null,
   "id": "6304788e",
   "metadata": {},
   "outputs": [],
   "source": []
  },
  {
   "cell_type": "code",
   "execution_count": null,
   "id": "13790434",
   "metadata": {},
   "outputs": [],
   "source": [
    "from beir import util, LoggingHandler\n",
    "from beir.datasets.data_loader import GenericDataLoader\n",
    "from beir.retrieval.evaluation import EvaluateRetrieval\n",
    "import logging, json\n",
    "import os\n",
    "os.environ[\"TQDM_AUTO_NO_TQDM\"] = \"True\"\n",
    "\n"
   ]
  },
  {
   "cell_type": "code",
   "execution_count": null,
   "id": "655bddb7",
   "metadata": {},
   "outputs": [],
   "source": [
    "logging.basicConfig(format='%(asctime)s - %(message)s',\n",
    "                    level=logging.INFO,\n",
    "                    handlers=[LoggingHandler()])\n"
   ]
  },
  {
   "cell_type": "code",
   "execution_count": null,
   "id": "b137f7d6",
   "metadata": {},
   "outputs": [],
   "source": [
    "dataset = \"scifact\"  \n",
    "data_path = util.download_and_unzip(f\"https://public.ukp.informatik.tu-darmstadt.de/thakur/BEIR/datasets/{dataset}.zip\", \"datasets\")\n",
    "corpus, queries, qrels = GenericDataLoader(data_folder=data_path).load(split=\"test\")"
   ]
  },
  {
   "cell_type": "code",
   "execution_count": null,
   "id": "ba87d38c",
   "metadata": {},
   "outputs": [],
   "source": [
    "# 3) Initialize retrievers\n",
    "#   a) SPLADE sparse\n",
    "from retrieval.splade import SpladeRetriever\n",
    "sparse_model = SpladeRetriever()\n",
    "#   b) Contriever dense\n",
    "from retrieval.dense import DenseRetriever\n",
    "dense_model  = DenseRetriever()"
   ]
  },
  {
   "cell_type": "code",
   "execution_count": null,
   "id": "2bcf64db",
   "metadata": {},
   "outputs": [],
   "source": [
    "# 4) Build an evaluator\n",
    "evaluator = EvaluateRetrieval(\n",
    "    metrics=[\"ndcg@10\", \"map\", \"recall@100\"],\n",
    "    batch_size=16,\n",
    "    keep_documents=True\n",
    ")"
   ]
  },
  {
   "cell_type": "code",
   "execution_count": null,
   "id": "4a94e60a",
   "metadata": {},
   "outputs": [],
   "source": [
    "# 5) Run retrieval under different settings\n",
    "logging.info(\"Running SPLADE only...\")\n",
    "results_sparse = evaluator.retrieve(corpus, queries, sparse_model.splade_embed)\n",
    "\n",
    "logging.info(\"Running Contriever only...\")\n",
    "results_dense  = evaluator.retrieve(corpus, queries, dense_model.dense_embed)"
   ]
  },
  {
   "cell_type": "code",
   "execution_count": null,
   "id": "d8ed08cc",
   "metadata": {},
   "outputs": [],
   "source": [
    "# 6) Hybrid fusion function\n",
    "def hybrid_search_func(query, corpus_embeddings, passages):\n",
    "    # Precompute both embeddings inside Splade & Dense retrievers\n",
    "    # Here we assume models return dict {pid: score}\n",
    "    sparse_scores = sparse_model.get_scores(query, passages)\n",
    "    dense_scores  = dense_model.get_scores(query, passages)\n",
    "    alpha = 0.5\n",
    "    return {pid: alpha * sparse_scores[pid] + (1-alpha) * dense_scores[pid]\n",
    "            for pid in sparse_scores}\n",
    "\n",
    "logging.info(\"Running Hybrid (α=0.5)...\")\n",
    "results_hybrid = evaluator.retrieve(corpus, queries,\n",
    "                                    lambda q: hybrid_search_func(q, None, list(corpus.keys())))\n"
   ]
  },
  {
   "cell_type": "code",
   "execution_count": null,
   "id": "a08c9850",
   "metadata": {},
   "outputs": [],
   "source": [
    "# 7) Evaluate\n",
    "logging.info(\"Evaluating SPLADE...\")\n",
    "metrics_sparse = evaluator.evaluate(qrels, results_sparse)\n",
    "\n",
    "logging.info(\"Evaluating Contriever...\")\n",
    "metrics_dense = evaluator.evaluate(qrels, results_dense)\n",
    "\n",
    "logging.info(\"Evaluating Hybrid...\")\n",
    "metrics_hybrid = evaluator.evaluate(qrels, results_hybrid)"
   ]
  },
  {
   "cell_type": "code",
   "execution_count": null,
   "id": "1860ab3b",
   "metadata": {},
   "outputs": [],
   "source": []
  },
  {
   "cell_type": "code",
   "execution_count": null,
   "id": "911cd69b",
   "metadata": {},
   "outputs": [],
   "source": [
    "\n",
    "# 8) Print summary\n",
    "print(\"Sparse Metrics:\", json.dumps(metrics_sparse, indent=2))\n",
    "print(\"Dense  Metrics:\", json.dumps(metrics_dense, indent=2))\n",
    "print(\"Hybrid Metrics:\", json.dumps(metrics_hybrid, indent=2))"
   ]
  }
 ],
 "metadata": {
  "kernelspec": {
   "display_name": ".venv",
   "language": "python",
   "name": "python3"
  },
  "language_info": {
   "codemirror_mode": {
    "name": "ipython",
    "version": 3
   },
   "file_extension": ".py",
   "mimetype": "text/x-python",
   "name": "python",
   "nbconvert_exporter": "python",
   "pygments_lexer": "ipython3",
   "version": "3.11.3"
  }
 },
 "nbformat": 4,
 "nbformat_minor": 5
}
